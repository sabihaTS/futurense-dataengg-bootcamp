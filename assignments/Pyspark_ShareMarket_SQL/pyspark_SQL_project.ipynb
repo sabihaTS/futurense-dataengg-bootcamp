{
 "cells": [
  {
   "cell_type": "code",
   "execution_count": 0,
   "metadata": {
    "application/vnd.databricks.v1+cell": {
     "cellMetadata": {
      "byteLimit": 2048000,
      "rowLimit": 10000
     },
     "inputWidgets": {},
     "nuid": "020b9b98-0d7b-4add-b42b-c5eee0de440f",
     "showTitle": false,
     "title": ""
    }
   },
   "outputs": [],
   "source": [
    "rdd=sc.textFile(\"/FileStore/tables/sharemarket.csv\")"
   ]
  },
  {
   "cell_type": "code",
   "execution_count": 0,
   "metadata": {
    "application/vnd.databricks.v1+cell": {
     "cellMetadata": {
      "byteLimit": 2048000,
      "rowLimit": 10000
     },
     "inputWidgets": {},
     "nuid": "f2e054ee-12bc-4aa3-ae78-b758ddaeff51",
     "showTitle": false,
     "title": ""
    }
   },
   "outputs": [],
   "source": [
    "rdd1=rdd.map(lambda x:x.split(\",\"))"
   ]
  },
  {
   "cell_type": "code",
   "execution_count": 0,
   "metadata": {
    "application/vnd.databricks.v1+cell": {
     "cellMetadata": {
      "byteLimit": 2048000,
      "rowLimit": 10000
     },
     "inputWidgets": {},
     "nuid": "8ac280b3-5848-4817-a7eb-f3e175d4ffc4",
     "showTitle": false,
     "title": ""
    }
   },
   "outputs": [
    {
     "output_type": "stream",
     "name": "stdout",
     "output_type": "stream",
     "text": [
      "+------+------+----------+--------------------+----------+----------+----------+---------+-----------+------------+----------+--------+------+--------+--------+\n|MARKET|SERIES|    SYMBOL|             SECURIT|PREV_CL_PR|OPEN_PRICE|HIGH_PRICE|LOW_PRICE|CLOSE_PRICE|NET_TRDVALUE|NET_TRDQTY|CORP_IND|TRADES|HI_52_WK|LO_52_WK|\n+------+------+----------+--------------------+----------+----------+----------+---------+-----------+------------+----------+--------+------+--------+--------+\n|     N|    N1|      IRFC|BOND 8.00% PA TAX...|      1086|      1085|      1085|  1084.54|       1085|  3371959.44|      3108|        |     8|    1194|    1050|\n|     N|    N1|      JNPT|BOND 6.82% PA TAX...|      1001|    1007.1|      1015|   1007.1|       1015|       51370|        51|        |     2| 1529.99|    1000|\n|     N|    N1|      NHAI|BOND 8.20% PA TAX...|   1091.38|      1092|      1092|     1087|    1089.98|  3861145.49|      3544|        |    39|    1140|    1045|\n|     N|    N1|      NTPC|8.41%S-R-NCD SERI...|   1198.99|      1135|      1135|     1135|       1135|      113500|       100|        |     1|    1275|  1022.1|\n|     N|    N1|    RECLTD|TAXFREE SEC NCD T...|   1083.54|      1088|      1088|     1085|       1085|      108530|       100|        |     2|  1184.8|    1041|\n|     N|    N2| BRITANNIA|   8.00% SEC RED NCD|     33.07|     33.07|      33.2|     32.8|      33.14|   677372.39|     20461|        |   107|      36|    29.9|\n|     N|    N2|     HUDCO|8.20 NCD05MAR27 F...|      1215|      1222|      1222|     1222|       1222|        3666|         3|        |     2|    1311|    1171|\n|     N|    N2|     IIFCL|  8.66% TAX FREE NCD|      1135|      1137|      1137|     1137|       1137|        4548|         4|        |     1|    1390|  1101.1|\n|     N|    N2|    M&MFIN| 9.00% UNSECURED NCD|      1104|   1101.98|   1101.98|  1080.05|    1089.43|    423116.5|       388|        |    12|    1229|  1049.5|\n|     N|    N2|    NABARD|7.64% TAX FREE TR...|    1238.5|   1239.01|   1239.55|  1237.01|    1238.22|   125060.45|       101|        |     4|  1304.8|    1181|\n|     N|    N2|      NHAI|BOND 8.30% PA TAX...|    1258.5|    1255.5|      1257|   1253.1|    1256.45|    464590.5|       370|        |     6|  1294.9|    1176|\n|     N|    N2|      NTPC|8.48%S-R-NCD SERI...|      1282|    1282.5|      1283|   1282.5|       1283|      128275|       100|        |     2|    1854|    1225|\n|     N|    N2|     PCHFL|SEC RE NCD 8.35% ...|      1000|      1000|   1004.67|     1000|    1001.68|   526800.91|       526|        |    17|    1028|  981.01|\n|     N|    N2|    RECLTD|TAXFREE SEC NCD T...|      1207|      1192|      1192|     1192|       1192|      238400|       200|        |     1|    1288|    1160|\n|     N|    N2|TATACAPHSG|SEC RED NCD 8.10%...|   1054.21|   1055.01|      1058|     1055|       1058|   1105942.5|      1048|        |    42|    1160|     950|\n|     N|    N3| BRITANNIA| UNSEC RED NCD 5.50%|     29.43|      29.4|      29.7|    29.38|      29.47|  4233217.99|    143810|        |   787|    30.5|      29|\n|     N|    N3|DHANILOANS|DHANI LOANS & SER...|      1008|      1002|      1003|     1002|       1003|       78158|        78|        |     5|    1030|     810|\n|     N|    N3|     HUDCO|8.10 NCD 05MAR22 ...|   1054.84|   1054.84|    1055.9|  1054.52|    1054.91|  1729096.92|      1639|        |    19|    1320|    1000|\n|     N|    N4|DHANILOANS|DHANI LOANS & SER...|    1020.8|   1022.01|   1022.01|  1022.01|    1022.01|     2044.02|         2|        |     1| 1098.75|     851|\n|     N|    N4|  ERFLNCDI|SEC RED NCD 9.00%...|       986|    988.22|    988.22|   988.22|     988.22|     29646.6|        30|        |     1|    1050|  829.95|\n+------+------+----------+--------------------+----------+----------+----------+---------+-----------+------------+----------+--------+------+--------+--------+\nonly showing top 20 rows\n\n"
     ]
    }
   ],
   "source": [
    "schema1=['MARKET','SERIES','SYMBOL','SECURIT','PREV_CL_PR','OPEN_PRICE','HIGH_PRICE','LOW_PRICE','CLOSE_PRICE','NET_TRDVALUE','NET_TRDQTY','CORP_IND','TRADES','HI_52_WK','LO_52_WK']\n",
    "DF=spark.createDataFrame(rdd1,schema=schema1)\n",
    "DF.show()"
   ]
  },
  {
   "cell_type": "code",
   "execution_count": 0,
   "metadata": {
    "application/vnd.databricks.v1+cell": {
     "cellMetadata": {
      "byteLimit": 2048000,
      "rowLimit": 10000
     },
     "inputWidgets": {},
     "nuid": "ea1ab56b-4ffa-4439-9e0d-1eb4dfcfe9eb",
     "showTitle": false,
     "title": ""
    }
   },
   "outputs": [],
   "source": [
    "DF.createOrReplaceTempView(\"sales\")"
   ]
  },
  {
   "cell_type": "code",
   "execution_count": 0,
   "metadata": {
    "application/vnd.databricks.v1+cell": {
     "cellMetadata": {
      "byteLimit": 2048000,
      "rowLimit": 10000
     },
     "inputWidgets": {},
     "nuid": "7dabb3de-ad19-419b-9234-e5a0d43a8db6",
     "showTitle": false,
     "title": ""
    }
   },
   "outputs": [
    {
     "output_type": "stream",
     "name": "stdout",
     "output_type": "stream",
     "text": [
      "+------+------+----------+--------------------+----------+----------+----------+---------+-----------+------------+----------+--------+------+--------+--------+\n|MARKET|SERIES|    SYMBOL|             SECURIT|PREV_CL_PR|OPEN_PRICE|HIGH_PRICE|LOW_PRICE|CLOSE_PRICE|NET_TRDVALUE|NET_TRDQTY|CORP_IND|TRADES|HI_52_WK|LO_52_WK|\n+------+------+----------+--------------------+----------+----------+----------+---------+-----------+------------+----------+--------+------+--------+--------+\n|     N|    N1|      IRFC|BOND 8.00% PA TAX...|      1086|      1085|      1085|  1084.54|       1085|  3371959.44|      3108|        |     8|    1194|    1050|\n|     N|    N1|      JNPT|BOND 6.82% PA TAX...|      1001|    1007.1|      1015|   1007.1|       1015|       51370|        51|        |     2| 1529.99|    1000|\n|     N|    N1|      NHAI|BOND 8.20% PA TAX...|   1091.38|      1092|      1092|     1087|    1089.98|  3861145.49|      3544|        |    39|    1140|    1045|\n|     N|    N1|      NTPC|8.41%S-R-NCD SERI...|   1198.99|      1135|      1135|     1135|       1135|      113500|       100|        |     1|    1275|  1022.1|\n|     N|    N1|    RECLTD|TAXFREE SEC NCD T...|   1083.54|      1088|      1088|     1085|       1085|      108530|       100|        |     2|  1184.8|    1041|\n|     N|    N2| BRITANNIA|   8.00% SEC RED NCD|     33.07|     33.07|      33.2|     32.8|      33.14|   677372.39|     20461|        |   107|      36|    29.9|\n|     N|    N2|     HUDCO|8.20 NCD05MAR27 F...|      1215|      1222|      1222|     1222|       1222|        3666|         3|        |     2|    1311|    1171|\n|     N|    N2|     IIFCL|  8.66% TAX FREE NCD|      1135|      1137|      1137|     1137|       1137|        4548|         4|        |     1|    1390|  1101.1|\n|     N|    N2|    M&MFIN| 9.00% UNSECURED NCD|      1104|   1101.98|   1101.98|  1080.05|    1089.43|    423116.5|       388|        |    12|    1229|  1049.5|\n|     N|    N2|    NABARD|7.64% TAX FREE TR...|    1238.5|   1239.01|   1239.55|  1237.01|    1238.22|   125060.45|       101|        |     4|  1304.8|    1181|\n|     N|    N2|      NHAI|BOND 8.30% PA TAX...|    1258.5|    1255.5|      1257|   1253.1|    1256.45|    464590.5|       370|        |     6|  1294.9|    1176|\n|     N|    N2|      NTPC|8.48%S-R-NCD SERI...|      1282|    1282.5|      1283|   1282.5|       1283|      128275|       100|        |     2|    1854|    1225|\n|     N|    N2|     PCHFL|SEC RE NCD 8.35% ...|      1000|      1000|   1004.67|     1000|    1001.68|   526800.91|       526|        |    17|    1028|  981.01|\n|     N|    N2|    RECLTD|TAXFREE SEC NCD T...|      1207|      1192|      1192|     1192|       1192|      238400|       200|        |     1|    1288|    1160|\n|     N|    N2|TATACAPHSG|SEC RED NCD 8.10%...|   1054.21|   1055.01|      1058|     1055|       1058|   1105942.5|      1048|        |    42|    1160|     950|\n|     N|    N3| BRITANNIA| UNSEC RED NCD 5.50%|     29.43|      29.4|      29.7|    29.38|      29.47|  4233217.99|    143810|        |   787|    30.5|      29|\n|     N|    N3|DHANILOANS|DHANI LOANS & SER...|      1008|      1002|      1003|     1002|       1003|       78158|        78|        |     5|    1030|     810|\n|     N|    N3|     HUDCO|8.10 NCD 05MAR22 ...|   1054.84|   1054.84|    1055.9|  1054.52|    1054.91|  1729096.92|      1639|        |    19|    1320|    1000|\n|     N|    N4|DHANILOANS|DHANI LOANS & SER...|    1020.8|   1022.01|   1022.01|  1022.01|    1022.01|     2044.02|         2|        |     1| 1098.75|     851|\n|     N|    N4|  ERFLNCDI|SEC RED NCD 9.00%...|       986|    988.22|    988.22|   988.22|     988.22|     29646.6|        30|        |     1|    1050|  829.95|\n+------+------+----------+--------------------+----------+----------+----------+---------+-----------+------------+----------+--------+------+--------+--------+\nonly showing top 20 rows\n\n"
     ]
    }
   ],
   "source": [
    "spark.sql(\"select * from sales\").show()"
   ]
  },
  {
   "cell_type": "code",
   "execution_count": 0,
   "metadata": {
    "application/vnd.databricks.v1+cell": {
     "cellMetadata": {
      "byteLimit": 2048000,
      "rowLimit": 10000
     },
     "inputWidgets": {},
     "nuid": "309b64bb-e90c-408d-87bb-f22a7311f126",
     "showTitle": true,
     "title": "1.Query to display the number of series present in the data."
    }
   },
   "outputs": [
    {
     "output_type": "stream",
     "name": "stdout",
     "output_type": "stream",
     "text": [
      "+-------------+\n|count(SERIES)|\n+-------------+\n|          155|\n+-------------+\n\n"
     ]
    }
   ],
   "source": [
    "spark.sql(\"select count(SERIES) from sales\").show()"
   ]
  },
  {
   "cell_type": "code",
   "execution_count": 0,
   "metadata": {
    "application/vnd.databricks.v1+cell": {
     "cellMetadata": {
      "byteLimit": 2048000,
      "rowLimit": 10000
     },
     "inputWidgets": {},
     "nuid": "660a5d23-8be9-48b5-84ab-1f1646867c9a",
     "showTitle": true,
     "title": "2.Display the series present in the data."
    }
   },
   "outputs": [
    {
     "output_type": "stream",
     "name": "stdout",
     "output_type": "stream",
     "text": [
      "+------+\n|SERIES|\n+------+\n|    NA|\n|    N3|\n|    NC|\n|    N7|\n|    N8|\n|    N2|\n|    N5|\n|    N4|\n|    N6|\n|    N1|\n|    N9|\n|    NB|\n|    NS|\n|    NL|\n|    NK|\n|    NJ|\n|    NX|\n|    NW|\n|    NP|\n|    NH|\n+------+\nonly showing top 20 rows\n\n"
     ]
    }
   ],
   "source": [
    "spark.sql(\"SELECT DISTINCT SERIES FROM SALES\").show()"
   ]
  },
  {
   "cell_type": "code",
   "execution_count": 0,
   "metadata": {
    "application/vnd.databricks.v1+cell": {
     "cellMetadata": {
      "byteLimit": 2048000,
      "rowLimit": 10000
     },
     "inputWidgets": {},
     "nuid": "966b7b78-21c4-4a45-a158-ad651823bad0",
     "showTitle": true,
     "title": "3.Find the sum of all the prices in the each series."
    }
   },
   "outputs": [
    {
     "output_type": "stream",
     "name": "stdout",
     "output_type": "stream",
     "text": [
      "+------+------------------+\n|SERIES|       TOTAL_PRICE|\n+------+------------------+\n|    NA|          79628.91|\n|    N3| 8348.119999999999|\n|    NC|          57412.31|\n|    N7|13045.900000000001|\n|    N8|32583.230000000003|\n|    N2|          42048.85|\n|    N5|          35092.07|\n|    N4|47750.659999999996|\n|    N6|         105463.81|\n|    N1|          21630.72|\n|    N9|           32401.0|\n|    NB|          28642.17|\n|    YH|           4098.02|\n|    NS|            4129.0|\n|    NL|13611.080000000002|\n|    NK|7731.4800000000005|\n|    Z4|            4124.2|\n|    NJ|          17155.18|\n|    NX|           1275.88|\n|    YS|            4530.0|\n+------+------------------+\nonly showing top 20 rows\n\n"
     ]
    }
   ],
   "source": [
    "spark.sql(\"SELECT SERIES,SUM(OPEN_PRICE+HIGH_PRICE+LOW_PRICE+CLOSE_PRICE) TOTAL_PRICE FROM SALES GROUP BY SERIES\").show()"
   ]
  },
  {
   "cell_type": "code",
   "execution_count": 0,
   "metadata": {
    "application/vnd.databricks.v1+cell": {
     "cellMetadata": {
      "byteLimit": 2048000,
      "rowLimit": 10000
     },
     "inputWidgets": {},
     "nuid": "5fe8b671-54f2-40cd-a5b7-5e114f5d408f",
     "showTitle": true,
     "title": "4.Display security,series with highest net trade value"
    }
   },
   "outputs": [
    {
     "output_type": "stream",
     "name": "stdout",
     "output_type": "stream",
     "text": [
      "+--------------------+------+-----------------+\n|             SECURIT|SERIES|max(NET_TRDVALUE)|\n+--------------------+------+-----------------+\n|  10.25% SRNCD SR IX|    N9|             5240|\n|7.34 NCD 16FEB23 ...|    N4|         118037.8|\n|7.43% TAX FREE TR...|    NH|           127200|\n|7.51 NCD 16FEB28 ...|    N5|        2456326.6|\n|7.64% TAX FREE TR...|    N2|        125060.45|\n|7.64% TAX FREETRI...|    N8|          1458346|\n|  7.74% TAX FREE NCD|    N7|        349804.56|\n|   8.00% SEC RED NCD|    N2|        677372.39|\n|8.10 NCD 05MAR22 ...|    N3|       1729096.92|\n|8.12/8.32% TAX FR...|    NI|           835750|\n|8.20 NCD05MAR27 F...|    N2|             3666|\n|  8.20% TAX FREE NCD|    N4|          1383608|\n|  8.30% TAX FREE NCD|    N5|           254915|\n|8.41%S-R-NCD SERI...|    N1|           113500|\n|8.48%S-R-NCD SERI...|    N2|           128275|\n|8.49% SEC NON-CUM...|    N7|       1993104.14|\n|8.50% TAX FREE TR...|    N5|           128000|\n|8.52% TAX FREE TR...|    N4|           143031|\n|  8.66% TAX FREE NCD|    N2|             4548|\n|8.75% TAX FREE TR...|    N6|       9604082.74|\n+--------------------+------+-----------------+\nonly showing top 20 rows\n\n"
     ]
    }
   ],
   "source": [
    "spark.sql(\"SELECT SECURIT,SERIES,MAX(NET_TRDVALUE) FROM SALES GROUP BY SECURIT,SERIES\").show()"
   ]
  },
  {
   "cell_type": "code",
   "execution_count": 0,
   "metadata": {
    "application/vnd.databricks.v1+cell": {
     "cellMetadata": {
      "byteLimit": 2048000,
      "rowLimit": 10000
     },
     "inputWidgets": {},
     "nuid": "d5550b7c-d597-48d4-bd0b-f6cdc8b88c30",
     "showTitle": true,
     "title": "5.Display the series whose sum of all prices greater than the net trade value."
    }
   },
   "outputs": [
    {
     "output_type": "stream",
     "name": "stdout",
     "output_type": "stream",
     "text": [
      "+------+-----------+------------+\n|series|TOTAL_PRICE|NET_TRDVALUE|\n+------+-----------+------------+\n|    N2|     4888.0|        3666|\n|    N4|    4088.04|     2044.02|\n|    N5|     3824.8|      1912.4|\n|    N6|     5364.0|        1341|\n|    NB|     3686.0|        1843|\n+------+-----------+------------+\n\n"
     ]
    }
   ],
   "source": [
    "spark.sql(\"select series,(OPEN_PRICE+HIGH_PRICE+LOW_PRICE+CLOSE_PRICE) TOTAL_PRICE,NET_TRDVALUE FROM SALES WHERE NET_TRDVALUE<(OPEN_PRICE+HIGH_PRICE+LOW_PRICE+CLOSE_PRICE)\").show()"
   ]
  },
  {
   "cell_type": "code",
   "execution_count": 0,
   "metadata": {
    "application/vnd.databricks.v1+cell": {
     "cellMetadata": {
      "byteLimit": 2048000,
      "rowLimit": 10000
     },
     "inputWidgets": {},
     "nuid": "9d2f295a-94ca-40d3-a718-3d307ed00e84",
     "showTitle": true,
     "title": "6.Display the series with highest net trade quantity."
    }
   },
   "outputs": [
    {
     "output_type": "stream",
     "name": "stdout",
     "output_type": "stream",
     "text": [
      "+------+------------+\n|SERIES|NET_TRDVALUE|\n+------+------------+\n|    N4|    972888.7|\n+------+------------+\n\n"
     ]
    }
   ],
   "source": [
    "spark.sql(\"select SERIES,NET_TRDVALUE FROM SALES WHERE NET_TRDVALUE=(SELECT MAX(NET_TRDVALUE) FROM SALES)\").show()"
   ]
  },
  {
   "cell_type": "code",
   "execution_count": 0,
   "metadata": {
    "application/vnd.databricks.v1+cell": {
     "cellMetadata": {
      "byteLimit": 2048000,
      "rowLimit": 10000
     },
     "inputWidgets": {},
     "nuid": "a9fa6797-ed53-413c-9d4b-5d84b96192a0",
     "showTitle": true,
     "title": "7. Display the highest and lowest open price"
    }
   },
   "outputs": [
    {
     "output_type": "stream",
     "name": "stdout",
     "output_type": "stream",
     "text": [
      "+-------------+------------+\n|HIGHEST_PRICE|LOWEST_PRICE|\n+-------------+------------+\n|        11450|          13|\n+-------------+------------+\n\n"
     ]
    }
   ],
   "source": [
    "spark.sql(\"select max(cast(OPEN_PRICE AS INT)) HIGHEST_PRICE,MIN(CAST(OPEN_PRICE AS INT)) LOWEST_PRICE FROM SALES\").show()"
   ]
  },
  {
   "cell_type": "code",
   "execution_count": 0,
   "metadata": {
    "application/vnd.databricks.v1+cell": {
     "cellMetadata": {
      "byteLimit": 2048000,
      "rowLimit": 10000
     },
     "inputWidgets": {},
     "nuid": "663d0e96-f4c5-432d-b184-5f91a2fd54a6",
     "showTitle": true,
     "title": "8.Query to display the series which have trades more than 80"
    }
   },
   "outputs": [
    {
     "output_type": "stream",
     "name": "stdout",
     "output_type": "stream",
     "text": [
      "+------+\n|SERIES|\n+------+\n|    N1|\n|    N1|\n|    N1|\n|    N1|\n|    N2|\n|    N2|\n|    N2|\n|    N2|\n|    N2|\n|    N2|\n|    N2|\n|    N2|\n|    N3|\n|    N3|\n|    N4|\n|    N4|\n|    N4|\n|    N4|\n|    N4|\n|    N5|\n+------+\nonly showing top 20 rows\n\n"
     ]
    }
   ],
   "source": [
    "spark.sql(\"SELECT SERIES FROM SALES WHERE NET_TRDQTY > 80\").show()"
   ]
  },
  {
   "cell_type": "code",
   "execution_count": 0,
   "metadata": {
    "application/vnd.databricks.v1+cell": {
     "cellMetadata": {
      "byteLimit": 2048000,
      "rowLimit": 10000
     },
     "inputWidgets": {},
     "nuid": "d40aa8c8-0ea0-4a9b-b922-5a9bb319f6b6",
     "showTitle": true,
     "title": "9.Display the difference between the net trade value net trade quantity for each series."
    }
   },
   "outputs": [
    {
     "output_type": "stream",
     "name": "stdout",
     "output_type": "stream",
     "text": [
      "+------+-------------------------------------+\n|SERIES|(sum(NET_TRDVALUE) - sum(NET_TRDQTY))|\n+------+-------------------------------------+\n|    N1|                           7499601.93|\n|    N2|                           3674571.25|\n|    N3|                           5894945.91|\n|    N4|                   3474029.2199999997|\n|    N5|                           5581855.67|\n|    N6|                        1.678578209E7|\n|    N7|                           2218463.04|\n|    N8|                           3982020.85|\n|    N9|                             455370.9|\n|    NA|                           3331953.97|\n|    NB|                           2430891.59|\n|    NC|                           2505038.79|\n|    ND|                   4354764.4399999995|\n|    NE|                           2538813.87|\n|    NF|                           2023897.42|\n|    NG|                            598515.95|\n|    NH|                           1686244.58|\n|    NI|                           2882284.35|\n|    NJ|                           7421503.24|\n|    NK|                           1010121.69|\n+------+-------------------------------------+\nonly showing top 20 rows\n\n"
     ]
    }
   ],
   "source": [
    "spark.sql(\"SELECT SERIES,(sum(NET_TRDVALUE)-sum(NET_TRDQTY)) FROM SALES group by series order by series\").show()"
   ]
  },
  {
   "cell_type": "code",
   "execution_count": 0,
   "metadata": {
    "application/vnd.databricks.v1+cell": {
     "cellMetadata": {},
     "inputWidgets": {},
     "nuid": "ba4731e2-abcf-4898-8267-7a567607faa9",
     "showTitle": false,
     "title": ""
    }
   },
   "outputs": [],
   "source": []
  }
 ],
 "metadata": {
  "application/vnd.databricks.v1+notebook": {
   "dashboards": [],
   "language": "python",
   "notebookMetadata": {
    "pythonIndentUnit": 4
   },
   "notebookName": "pyspark_SQL_project",
   "notebookOrigID": 2111449983275699,
   "widgets": {}
  }
 },
 "nbformat": 4,
 "nbformat_minor": 0
}
