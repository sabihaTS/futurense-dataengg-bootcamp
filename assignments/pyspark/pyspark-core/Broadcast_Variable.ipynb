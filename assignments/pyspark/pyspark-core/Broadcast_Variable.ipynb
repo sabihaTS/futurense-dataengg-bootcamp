{
 "cells": [
  {
   "cell_type": "code",
   "execution_count": 2,
   "id": "1e4ff3c1",
   "metadata": {},
   "outputs": [],
   "source": [
    "import findspark\n",
    "findspark.init()"
   ]
  },
  {
   "cell_type": "code",
   "execution_count": 3,
   "id": "6468dabb",
   "metadata": {},
   "outputs": [],
   "source": [
    "from pyspark import SparkContext"
   ]
  },
  {
   "cell_type": "code",
   "execution_count": 4,
   "id": "c9ff4269",
   "metadata": {},
   "outputs": [],
   "source": [
    "sc=SparkContext(\"local\")"
   ]
  },
  {
   "cell_type": "code",
   "execution_count": 5,
   "id": "b3c00bb9",
   "metadata": {},
   "outputs": [],
   "source": [
    "from pyspark.sql import SparkSession\n",
    "spark = SparkSession.builder.master(\"local[1]\") \\\n",
    "                    .appName('SparkByExamples.com') \\\n",
    "                    .getOrCreate()"
   ]
  },
  {
   "cell_type": "code",
   "execution_count": 6,
   "id": "f0dee51d",
   "metadata": {},
   "outputs": [],
   "source": [
    "countries=sc.broadcast({'AUS':'Australia','IND':'India','JPN':'Japan'})\n"
   ]
  },
  {
   "cell_type": "code",
   "execution_count": 7,
   "id": "ef4e3fa8",
   "metadata": {},
   "outputs": [
    {
     "data": {
      "text/plain": [
       "{'AUS': 'Australia', 'IND': 'India', 'JPN': 'Japan'}"
      ]
     },
     "execution_count": 7,
     "metadata": {},
     "output_type": "execute_result"
    }
   ],
   "source": [
    "countries.value"
   ]
  },
  {
   "cell_type": "code",
   "execution_count": 8,
   "id": "8eb30e58",
   "metadata": {},
   "outputs": [],
   "source": [
    "trans=sc.parallelize([(100,'Debit',1000.0,'IND'),(101,\"Credit\",2000.0,'IND'),\n",
    "                      (102,'Debit',3000.0,'AUS'),(103,'Credit',4000.0,'JPN'),\n",
    "                      (104,'Debit',5000.0,'IND'),(105,'Credit',6000.0,'AUS')])"
   ]
  },
  {
   "cell_type": "code",
   "execution_count": 9,
   "id": "2260af9f",
   "metadata": {},
   "outputs": [
    {
     "data": {
      "text/plain": [
       "[(100, 'Debit', 1000.0, 'IND'),\n",
       " (101, 'Credit', 2000.0, 'IND'),\n",
       " (102, 'Debit', 3000.0, 'AUS'),\n",
       " (103, 'Credit', 4000.0, 'JPN'),\n",
       " (104, 'Debit', 5000.0, 'IND'),\n",
       " (105, 'Credit', 6000.0, 'AUS')]"
      ]
     },
     "execution_count": 9,
     "metadata": {},
     "output_type": "execute_result"
    }
   ],
   "source": [
    "trans.collect()"
   ]
  },
  {
   "cell_type": "code",
   "execution_count": 10,
   "id": "f74df7b5",
   "metadata": {},
   "outputs": [
    {
     "data": {
      "text/plain": [
       "[('IND', 'Debit', 1),\n",
       " ('IND', 'Credit', 1),\n",
       " ('AUS', 'Debit', 1),\n",
       " ('JPN', 'Credit', 1),\n",
       " ('IND', 'Debit', 1),\n",
       " ('AUS', 'Credit', 1)]"
      ]
     },
     "execution_count": 10,
     "metadata": {},
     "output_type": "execute_result"
    }
   ],
   "source": [
    "rdd1=trans.map(lambda x:(x[3],x[1],1))\n",
    "rdd1.collect()"
   ]
  },
  {
   "cell_type": "code",
   "execution_count": 11,
   "id": "e1a97abd",
   "metadata": {},
   "outputs": [
    {
     "data": {
      "text/plain": [
       "[(('IND', 'Debit'), [('IND', 'Debit', 1), ('IND', 'Debit', 1)]),\n",
       " (('IND', 'Credit'), [('IND', 'Credit', 1)]),\n",
       " (('AUS', 'Debit'), [('AUS', 'Debit', 1)]),\n",
       " (('JPN', 'Credit'), [('JPN', 'Credit', 1)]),\n",
       " (('AUS', 'Credit'), [('AUS', 'Credit', 1)])]"
      ]
     },
     "execution_count": 11,
     "metadata": {},
     "output_type": "execute_result"
    }
   ],
   "source": [
    "rdd2=rdd1.groupBy(lambda y:(y[0],y[1])).mapValues(list)\n",
    "rdd2.collect()"
   ]
  },
  {
   "cell_type": "code",
   "execution_count": 12,
   "id": "d35ab8d3",
   "metadata": {},
   "outputs": [
    {
     "data": {
      "text/plain": [
       "[(('IND', 'Debit'), 2),\n",
       " (('IND', 'Credit'), 1),\n",
       " (('AUS', 'Debit'), 1),\n",
       " (('JPN', 'Credit'), 1),\n",
       " (('AUS', 'Credit'), 1)]"
      ]
     },
     "execution_count": 12,
     "metadata": {},
     "output_type": "execute_result"
    }
   ],
   "source": [
    "rdd3=rdd2.map(lambda f:(f[0],len(f[1])))\n",
    "rdd3.collect()"
   ]
  },
  {
   "cell_type": "code",
   "execution_count": 13,
   "id": "2a0fb45e",
   "metadata": {},
   "outputs": [],
   "source": [
    "def ccon(code):\n",
    "    return countries.value[code]"
   ]
  },
  {
   "cell_type": "code",
   "execution_count": 14,
   "id": "8bba4a18",
   "metadata": {},
   "outputs": [
    {
     "data": {
      "text/plain": [
       "[('India', 'Debit', 2),\n",
       " ('India', 'Credit', 1),\n",
       " ('Australia', 'Debit', 1),\n",
       " ('Japan', 'Credit', 1),\n",
       " ('Australia', 'Credit', 1)]"
      ]
     },
     "execution_count": 14,
     "metadata": {},
     "output_type": "execute_result"
    }
   ],
   "source": [
    "result=rdd3.map(lambda x:(ccon(x[0][0]),x[0][1],x[1]))\n",
    "result.collect()"
   ]
  }
 ],
 "metadata": {
  "kernelspec": {
   "display_name": "Python 3 (ipykernel)",
   "language": "python",
   "name": "python3"
  },
  "language_info": {
   "codemirror_mode": {
    "name": "ipython",
    "version": 3
   },
   "file_extension": ".py",
   "mimetype": "text/x-python",
   "name": "python",
   "nbconvert_exporter": "python",
   "pygments_lexer": "ipython3",
   "version": "3.10.4"
  }
 },
 "nbformat": 4,
 "nbformat_minor": 5
}
